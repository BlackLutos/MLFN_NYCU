{
 "cells": [
  {
   "cell_type": "code",
   "execution_count": 17,
   "id": "b9f00aec",
   "metadata": {},
   "outputs": [],
   "source": [
    "import pandas as pd\n",
    "import numpy as np\n",
    "import matplotlib.pyplot as plt"
   ]
  },
  {
   "cell_type": "markdown",
   "id": "b24e3294",
   "metadata": {},
   "source": [
    "# Read Data"
   ]
  },
  {
   "cell_type": "code",
   "execution_count": 58,
   "id": "3febdc1e",
   "metadata": {},
   "outputs": [],
   "source": [
    "col_names = [\"duration\",\"protocol_type\",\"service\",\"flag\",\"src_bytes\",\n",
    "\"dst_bytes\",\"land\",\"wrong_fragment\",\"urgent\",\"hot\",\"num_failed_logins\",\n",
    "\"logged_in\",\"num_compromised\",\"root_shell\",\"su_attempted\",\"num_root\",\n",
    "\"num_file_creations\",\"num_shells\",\"num_access_files\",\"num_outbound_cmds\",\n",
    "\"is_host_login\",\"is_guest_login\",\"count\",\"srv_count\",\"serror_rate\",\n",
    "\"srv_serror_rate\",\"rerror_rate\",\"srv_rerror_rate\",\"same_srv_rate\",\n",
    "\"diff_srv_rate\",\"srv_diff_host_rate\",\"dst_host_count\",\"dst_host_srv_count\",\n",
    "\"dst_host_same_srv_rate\",\"dst_host_diff_srv_rate\",\"dst_host_same_src_port_rate\",\n",
    "\"dst_host_srv_diff_host_rate\",\"dst_host_serror_rate\",\"dst_host_srv_serror_rate\",\n",
    "\"dst_host_rerror_rate\",\"dst_host_srv_rerror_rate\",\"attack_types\"]\n",
    "\n",
    "train_data = pd.read_table(\"Dataset/kddcup.data.txt\",header=None, sep=',' ,on_bad_lines='skip' ,names = col_names)\n",
    "# train_data = pd.read_table(\"Dataset/kddcup.data_10_percent.txt\",header=None, sep=',' ,on_bad_lines='skip' ,names = col_names)\n",
    "test_data = pd.read_table(\"Dataset/corrected\",header=None, sep=',' ,on_bad_lines='skip' ,names = col_names)"
   ]
  },
  {
   "cell_type": "markdown",
   "id": "784691b2",
   "metadata": {},
   "source": [
    "# DataProcessing"
   ]
  },
  {
   "cell_type": "code",
   "execution_count": 59,
   "id": "95d17701",
   "metadata": {},
   "outputs": [],
   "source": [
    "conditions = [(train_data['attack_types'] == 'back.'), \n",
    "(train_data['attack_types'] == 'buffer_overflow.'), (train_data['attack_types'] == 'ftp_write.'), \n",
    "(train_data['attack_types'] == 'guess_passwd.'), (train_data['attack_types'] == 'imap.'), \n",
    "(train_data['attack_types'] == 'ipsweep.'), (train_data['attack_types'] == 'land.'), \n",
    "(train_data['attack_types'] == 'loadmodule.'), (train_data['attack_types'] == 'multihop.'), \n",
    "(train_data['attack_types'] == 'neptune.'), (train_data['attack_types'] == 'nmap.'), \n",
    "(train_data['attack_types'] == 'perl.'), (train_data['attack_types'] == 'phf.'), \n",
    "(train_data['attack_types'] == 'pod.'), (train_data['attack_types'] == 'portsweep.'), \n",
    "(train_data['attack_types'] == 'rootkit.'), (train_data['attack_types'] == 'satan.'), \n",
    "(train_data['attack_types'] == 'smurf.'), (train_data['attack_types'] == 'spy.'), \n",
    "(train_data['attack_types'] == 'teardrop.'), (train_data['attack_types'] == 'warezclient.'), \n",
    "(train_data['attack_types'] == 'warezmaster.')]\n",
    "\n",
    "choices = ['dos', 'u2r', 'r2l', 'r2l', 'r2l', 'probe', 'dos', 'u2r', 'r2l', 'dos', 'probe', 'u2r', 'r2l', 'dos', 'probe', \n",
    "'u2r', 'probe', 'dos', 'r2l', 'dos', 'r2l', 'r2l'] # dos, u2r, r2l, probe\n",
    "\n",
    "train_data['label'] = np.select(conditions, choices, default='normal')\n",
    "# train_data.to_csv(\"Dataset/kddcup.data_10_percent.csv\")"
   ]
  },
  {
   "cell_type": "code",
   "execution_count": 61,
   "id": "2da31408",
   "metadata": {},
   "outputs": [
    {
     "data": {
      "image/png": "[encoded data removed]",
      "text/plain": [
       "<Figure size 640x480 with 1 Axes>"
      ]
     },
     "metadata": {},
     "output_type": "display_data"
    },
    {
     "data": {
      "text/plain": [
       "dos       3883370\n",
       "normal     972780\n",
       "probe       41102\n",
       "r2l          1126\n",
       "u2r            52\n",
       "Name: label, dtype: int64"
      ]
     },
     "execution_count": 61,
     "metadata": {},
     "output_type": "execute_result"
    }
   ],
   "source": [
    "train_data_rows = [i for i in train_data.head(len(train_data)).index]\n",
    "labels = train_data['label']\n",
    "labels_counts = labels.value_counts()\n",
    "labels_nums = {\"dos\":labels_counts[0],\"normal\":labels_counts[1],\"probe\":labels_counts[2],\"r21\":labels_counts[3],\"u2r\":labels_counts[4]}\n",
    "labels_keys = [i for i in labels_nums.keys()]\n",
    "labels_values = [i for i in labels_nums.values()]\n",
    "x = np.arange(len(labels_keys))\n",
    "\n",
    "plt.bar(x, labels_values)\n",
    "plt.xticks(x, labels_keys)\n",
    "plt.xlabel('labels')\n",
    "plt.ylabel('index')\n",
    "plt.title('title')\n",
    "plt.show()"
   ]
  },
  {
   "cell_type": "code",
   "execution_count": 62,
   "id": "b8af13f8",
   "metadata": {},
   "outputs": [],
   "source": [
    "conditions = [(test_data['attack_types'] == 'back.'), \n",
    "(test_data['attack_types'] == 'buffer_overflow.'), (test_data['attack_types'] == 'ftp_write.'), \n",
    "(test_data['attack_types'] == 'guess_passwd.'), (test_data['attack_types'] == 'imap.'), \n",
    "(test_data['attack_types'] == 'ipsweep.'), (test_data['attack_types'] == 'land.'), \n",
    "(test_data['attack_types'] == 'loadmodule.'), (test_data['attack_types'] == 'multihop.'), \n",
    "(test_data['attack_types'] == 'neptune.'), (test_data['attack_types'] == 'nmap.'), \n",
    "(test_data['attack_types'] == 'perl.'), (test_data['attack_types'] == 'phf.'), \n",
    "(test_data['attack_types'] == 'pod.'), (test_data['attack_types'] == 'portsweep.'), \n",
    "(test_data['attack_types'] == 'rootkit.'), (test_data['attack_types'] == 'satan.'), \n",
    "(test_data['attack_types'] == 'smurf.'), (test_data['attack_types'] == 'spy.'), \n",
    "(test_data['attack_types'] == 'teardrop.'), (test_data['attack_types'] == 'warezclient.'), \n",
    "(test_data['attack_types'] == 'warezmaster.')]\n",
    "\n",
    "choices = ['dos', 'u2r', 'r2l', 'r2l', 'r2l', 'probe', 'dos', 'u2r', 'r2l', 'dos', 'probe', 'u2r', 'r2l', 'dos', 'probe', \n",
    "'u2r', 'probe', 'dos', 'r2l', 'dos', 'r2l', 'r2l'] # dos, u2r, r2l, probe\n",
    "\n",
    "test_data['label'] = np.select(conditions, choices, default='normal')\n",
    "# test_data.to_csv(\"Dataset/corrected.csv\")"
   ]
  },
  {
   "cell_type": "code",
   "execution_count": 63,
   "id": "4c2ee6fd",
   "metadata": {},
   "outputs": [
    {
     "data": {
      "text/html": [
       "<div>\n",
       "<style scoped>\n",
       "    .dataframe tbody tr th:only-of-type {\n",
       "        vertical-align: middle;\n",
       "    }\n",
       "\n",
       "    .dataframe tbody tr th {\n",
       "        vertical-align: top;\n",
       "    }\n",
       "\n",
       "    .dataframe thead th {\n",
       "        text-align: right;\n",
       "    }\n",
       "</style>\n",
       "<table border=\"1\" class=\"dataframe\">\n",
       "  <thead>\n",
       "    <tr style=\"text-align: right;\">\n",
       "      <th></th>\n",
       "      <th>duration</th>\n",
       "      <th>src_bytes</th>\n",
       "      <th>dst_bytes</th>\n",
       "      <th>land</th>\n",
       "      <th>wrong_fragment</th>\n",
       "      <th>urgent</th>\n",
       "      <th>hot</th>\n",
       "      <th>num_failed_logins</th>\n",
       "      <th>logged_in</th>\n",
       "      <th>num_compromised</th>\n",
       "      <th>...</th>\n",
       "      <th>dst_host_count</th>\n",
       "      <th>dst_host_srv_count</th>\n",
       "      <th>dst_host_same_srv_rate</th>\n",
       "      <th>dst_host_diff_srv_rate</th>\n",
       "      <th>dst_host_same_src_port_rate</th>\n",
       "      <th>dst_host_srv_diff_host_rate</th>\n",
       "      <th>dst_host_serror_rate</th>\n",
       "      <th>dst_host_srv_serror_rate</th>\n",
       "      <th>dst_host_rerror_rate</th>\n",
       "      <th>dst_host_srv_rerror_rate</th>\n",
       "    </tr>\n",
       "  </thead>\n",
       "  <tbody>\n",
       "    <tr>\n",
       "      <th>count</th>\n",
       "      <td>4.898430e+06</td>\n",
       "      <td>4.898430e+06</td>\n",
       "      <td>4.898430e+06</td>\n",
       "      <td>4.898430e+06</td>\n",
       "      <td>4.898430e+06</td>\n",
       "      <td>4.898430e+06</td>\n",
       "      <td>4.898430e+06</td>\n",
       "      <td>4.898430e+06</td>\n",
       "      <td>4.898430e+06</td>\n",
       "      <td>4.898430e+06</td>\n",
       "      <td>...</td>\n",
       "      <td>4.898430e+06</td>\n",
       "      <td>4.898430e+06</td>\n",
       "      <td>4.898430e+06</td>\n",
       "      <td>4.898430e+06</td>\n",
       "      <td>4.898430e+06</td>\n",
       "      <td>4.898430e+06</td>\n",
       "      <td>4.898430e+06</td>\n",
       "      <td>4.898430e+06</td>\n",
       "      <td>4.898430e+06</td>\n",
       "      <td>4.898430e+06</td>\n",
       "    </tr>\n",
       "    <tr>\n",
       "      <th>mean</th>\n",
       "      <td>4.834244e+01</td>\n",
       "      <td>1.834621e+03</td>\n",
       "      <td>1.093623e+03</td>\n",
       "      <td>5.716117e-06</td>\n",
       "      <td>6.487793e-04</td>\n",
       "      <td>7.961735e-06</td>\n",
       "      <td>1.243766e-02</td>\n",
       "      <td>3.205109e-05</td>\n",
       "      <td>1.435288e-01</td>\n",
       "      <td>8.088306e-03</td>\n",
       "      <td>...</td>\n",
       "      <td>2.329811e+02</td>\n",
       "      <td>1.892143e+02</td>\n",
       "      <td>7.537134e-01</td>\n",
       "      <td>3.071111e-02</td>\n",
       "      <td>6.050521e-01</td>\n",
       "      <td>6.464108e-03</td>\n",
       "      <td>1.780912e-01</td>\n",
       "      <td>1.778859e-01</td>\n",
       "      <td>5.792782e-02</td>\n",
       "      <td>5.765943e-02</td>\n",
       "    </tr>\n",
       "    <tr>\n",
       "      <th>std</th>\n",
       "      <td>7.233299e+02</td>\n",
       "      <td>9.414312e+05</td>\n",
       "      <td>6.450124e+05</td>\n",
       "      <td>2.390834e-03</td>\n",
       "      <td>4.285434e-02</td>\n",
       "      <td>7.215084e-03</td>\n",
       "      <td>4.689782e-01</td>\n",
       "      <td>7.299408e-03</td>\n",
       "      <td>3.506114e-01</td>\n",
       "      <td>3.856481e+00</td>\n",
       "      <td>...</td>\n",
       "      <td>6.402086e+01</td>\n",
       "      <td>1.059127e+02</td>\n",
       "      <td>4.111859e-01</td>\n",
       "      <td>1.085432e-01</td>\n",
       "      <td>4.809877e-01</td>\n",
       "      <td>4.125978e-02</td>\n",
       "      <td>3.818382e-01</td>\n",
       "      <td>3.821775e-01</td>\n",
       "      <td>2.309428e-01</td>\n",
       "      <td>2.309777e-01</td>\n",
       "    </tr>\n",
       "    <tr>\n",
       "      <th>min</th>\n",
       "      <td>0.000000e+00</td>\n",
       "      <td>0.000000e+00</td>\n",
       "      <td>0.000000e+00</td>\n",
       "      <td>0.000000e+00</td>\n",
       "      <td>0.000000e+00</td>\n",
       "      <td>0.000000e+00</td>\n",
       "      <td>0.000000e+00</td>\n",
       "      <td>0.000000e+00</td>\n",
       "      <td>0.000000e+00</td>\n",
       "      <td>0.000000e+00</td>\n",
       "      <td>...</td>\n",
       "      <td>0.000000e+00</td>\n",
       "      <td>0.000000e+00</td>\n",
       "      <td>0.000000e+00</td>\n",
       "      <td>0.000000e+00</td>\n",
       "      <td>0.000000e+00</td>\n",
       "      <td>0.000000e+00</td>\n",
       "      <td>0.000000e+00</td>\n",
       "      <td>0.000000e+00</td>\n",
       "      <td>0.000000e+00</td>\n",
       "      <td>0.000000e+00</td>\n",
       "    </tr>\n",
       "    <tr>\n",
       "      <th>25%</th>\n",
       "      <td>0.000000e+00</td>\n",
       "      <td>4.500000e+01</td>\n",
       "      <td>0.000000e+00</td>\n",
       "      <td>0.000000e+00</td>\n",
       "      <td>0.000000e+00</td>\n",
       "      <td>0.000000e+00</td>\n",
       "      <td>0.000000e+00</td>\n",
       "      <td>0.000000e+00</td>\n",
       "      <td>0.000000e+00</td>\n",
       "      <td>0.000000e+00</td>\n",
       "      <td>...</td>\n",
       "      <td>2.550000e+02</td>\n",
       "      <td>4.900000e+01</td>\n",
       "      <td>4.100000e-01</td>\n",
       "      <td>0.000000e+00</td>\n",
       "      <td>0.000000e+00</td>\n",
       "      <td>0.000000e+00</td>\n",
       "      <td>0.000000e+00</td>\n",
       "      <td>0.000000e+00</td>\n",
       "      <td>0.000000e+00</td>\n",
       "      <td>0.000000e+00</td>\n",
       "    </tr>\n",
       "    <tr>\n",
       "      <th>50%</th>\n",
       "      <td>0.000000e+00</td>\n",
       "      <td>5.200000e+02</td>\n",
       "      <td>0.000000e+00</td>\n",
       "      <td>0.000000e+00</td>\n",
       "      <td>0.000000e+00</td>\n",
       "      <td>0.000000e+00</td>\n",
       "      <td>0.000000e+00</td>\n",
       "      <td>0.000000e+00</td>\n",
       "      <td>0.000000e+00</td>\n",
       "      <td>0.000000e+00</td>\n",
       "      <td>...</td>\n",
       "      <td>2.550000e+02</td>\n",
       "      <td>2.550000e+02</td>\n",
       "      <td>1.000000e+00</td>\n",
       "      <td>0.000000e+00</td>\n",
       "      <td>1.000000e+00</td>\n",
       "      <td>0.000000e+00</td>\n",
       "      <td>0.000000e+00</td>\n",
       "      <td>0.000000e+00</td>\n",
       "      <td>0.000000e+00</td>\n",
       "      <td>0.000000e+00</td>\n",
       "    </tr>\n",
       "    <tr>\n",
       "      <th>75%</th>\n",
       "      <td>0.000000e+00</td>\n",
       "      <td>1.032000e+03</td>\n",
       "      <td>0.000000e+00</td>\n",
       "      <td>0.000000e+00</td>\n",
       "      <td>0.000000e+00</td>\n",
       "      <td>0.000000e+00</td>\n",
       "      <td>0.000000e+00</td>\n",
       "      <td>0.000000e+00</td>\n",
       "      <td>0.000000e+00</td>\n",
       "      <td>0.000000e+00</td>\n",
       "      <td>...</td>\n",
       "      <td>2.550000e+02</td>\n",
       "      <td>2.550000e+02</td>\n",
       "      <td>1.000000e+00</td>\n",
       "      <td>4.000000e-02</td>\n",
       "      <td>1.000000e+00</td>\n",
       "      <td>0.000000e+00</td>\n",
       "      <td>0.000000e+00</td>\n",
       "      <td>0.000000e+00</td>\n",
       "      <td>0.000000e+00</td>\n",
       "      <td>0.000000e+00</td>\n",
       "    </tr>\n",
       "    <tr>\n",
       "      <th>max</th>\n",
       "      <td>5.832900e+04</td>\n",
       "      <td>1.379964e+09</td>\n",
       "      <td>1.309937e+09</td>\n",
       "      <td>1.000000e+00</td>\n",
       "      <td>3.000000e+00</td>\n",
       "      <td>1.400000e+01</td>\n",
       "      <td>7.700000e+01</td>\n",
       "      <td>5.000000e+00</td>\n",
       "      <td>1.000000e+00</td>\n",
       "      <td>7.479000e+03</td>\n",
       "      <td>...</td>\n",
       "      <td>2.550000e+02</td>\n",
       "      <td>2.550000e+02</td>\n",
       "      <td>1.000000e+00</td>\n",
       "      <td>1.000000e+00</td>\n",
       "      <td>1.000000e+00</td>\n",
       "      <td>1.000000e+00</td>\n",
       "      <td>1.000000e+00</td>\n",
       "      <td>1.000000e+00</td>\n",
       "      <td>1.000000e+00</td>\n",
       "      <td>1.000000e+00</td>\n",
       "    </tr>\n",
       "  </tbody>\n",
       "</table>\n",
       "<p>8 rows × 38 columns</p>\n",
       "</div>"
      ],
      "text/plain": [
       "           duration     src_bytes     dst_bytes          land  wrong_fragment  \\\n",
       "count  4.898430e+06  4.898430e+06  4.898430e+06  4.898430e+06    4.898430e+06   \n",
       "mean   4.834244e+01  1.834621e+03  1.093623e+03  5.716117e-06    6.487793e-04   \n",
       "std    7.233299e+02  9.414312e+05  6.450124e+05  2.390834e-03    4.285434e-02   \n",
       "min    0.000000e+00  0.000000e+00  0.000000e+00  0.000000e+00    0.000000e+00   \n",
       "25%    0.000000e+00  4.500000e+01  0.000000e+00  0.000000e+00    0.000000e+00   \n",
       "50%    0.000000e+00  5.200000e+02  0.000000e+00  0.000000e+00    0.000000e+00   \n",
       "75%    0.000000e+00  1.032000e+03  0.000000e+00  0.000000e+00    0.000000e+00   \n",
       "max    5.832900e+04  1.379964e+09  1.309937e+09  1.000000e+00    3.000000e+00   \n",
       "\n",
       "             urgent           hot  num_failed_logins     logged_in  \\\n",
       "count  4.898430e+06  4.898430e+06       4.898430e+06  4.898430e+06   \n",
       "mean   7.961735e-06  1.243766e-02       3.205109e-05  1.435288e-01   \n",
       "std    7.215084e-03  4.689782e-01       7.299408e-03  3.506114e-01   \n",
       "min    0.000000e+00  0.000000e+00       0.000000e+00  0.000000e+00   \n",
       "25%    0.000000e+00  0.000000e+00       0.000000e+00  0.000000e+00   \n",
       "50%    0.000000e+00  0.000000e+00       0.000000e+00  0.000000e+00   \n",
       "75%    0.000000e+00  0.000000e+00       0.000000e+00  0.000000e+00   \n",
       "max    1.400000e+01  7.700000e+01       5.000000e+00  1.000000e+00   \n",
       "\n",
       "       num_compromised  ...  dst_host_count  dst_host_srv_count  \\\n",
       "count     4.898430e+06  ...    4.898430e+06        4.898430e+06   \n",
       "mean      8.088306e-03  ...    2.329811e+02        1.892143e+02   \n",
       "std       3.856481e+00  ...    6.402086e+01        1.059127e+02   \n",
       "min       0.000000e+00  ...    0.000000e+00        0.000000e+00   \n",
       "25%       0.000000e+00  ...    2.550000e+02        4.900000e+01   \n",
       "50%       0.000000e+00  ...    2.550000e+02        2.550000e+02   \n",
       "75%       0.000000e+00  ...    2.550000e+02        2.550000e+02   \n",
       "max       7.479000e+03  ...    2.550000e+02        2.550000e+02   \n",
       "\n",
       "       dst_host_same_srv_rate  dst_host_diff_srv_rate  \\\n",
       "count            4.898430e+06            4.898430e+06   \n",
       "mean             7.537134e-01            3.071111e-02   \n",
       "std              4.111859e-01            1.085432e-01   \n",
       "min              0.000000e+00            0.000000e+00   \n",
       "25%              4.100000e-01            0.000000e+00   \n",
       "50%              1.000000e+00            0.000000e+00   \n",
       "75%              1.000000e+00            4.000000e-02   \n",
       "max              1.000000e+00            1.000000e+00   \n",
       "\n",
       "       dst_host_same_src_port_rate  dst_host_srv_diff_host_rate  \\\n",
       "count                 4.898430e+06                 4.898430e+06   \n",
       "mean                  6.050521e-01                 6.464108e-03   \n",
       "std                   4.809877e-01                 4.125978e-02   \n",
       "min                   0.000000e+00                 0.000000e+00   \n",
       "25%                   0.000000e+00                 0.000000e+00   \n",
       "50%                   1.000000e+00                 0.000000e+00   \n",
       "75%                   1.000000e+00                 0.000000e+00   \n",
       "max                   1.000000e+00                 1.000000e+00   \n",
       "\n",
       "       dst_host_serror_rate  dst_host_srv_serror_rate  dst_host_rerror_rate  \\\n",
       "count          4.898430e+06              4.898430e+06          4.898430e+06   \n",
       "mean           1.780912e-01              1.778859e-01          5.792782e-02   \n",
       "std            3.818382e-01              3.821775e-01          2.309428e-01   \n",
       "min            0.000000e+00              0.000000e+00          0.000000e+00   \n",
       "25%            0.000000e+00              0.000000e+00          0.000000e+00   \n",
       "50%            0.000000e+00              0.000000e+00          0.000000e+00   \n",
       "75%            0.000000e+00              0.000000e+00          0.000000e+00   \n",
       "max            1.000000e+00              1.000000e+00          1.000000e+00   \n",
       "\n",
       "       dst_host_srv_rerror_rate  \n",
       "count              4.898430e+06  \n",
       "mean               5.765943e-02  \n",
       "std                2.309777e-01  \n",
       "min                0.000000e+00  \n",
       "25%                0.000000e+00  \n",
       "50%                0.000000e+00  \n",
       "75%                0.000000e+00  \n",
       "max                1.000000e+00  \n",
       "\n",
       "[8 rows x 38 columns]"
      ]
     },
     "execution_count": 63,
     "metadata": {},
     "output_type": "execute_result"
    }
   ],
   "source": [
    "num_features = [\"duration\", \"src_bytes\", \"dst_bytes\", \"land\", \"wrong_fragment\", \"urgent\", \"hot\", \"num_failed_logins\", \n",
    "                \"logged_in\", \"num_compromised\", \"root_shell\", \"su_attempted\", \"num_root\", \"num_file_creations\", \"num_shells\",\n",
    "                \"num_access_files\", \"num_outbound_cmds\", \"is_host_login\", \"is_guest_login\", \"count\", \"srv_count\", \"serror_rate\", \n",
    "                \"srv_serror_rate\", \"rerror_rate\", \"srv_rerror_rate\", \"same_srv_rate\", \"diff_srv_rate\", \"srv_diff_host_rate\",\n",
    "                \"dst_host_count\", \"dst_host_srv_count\", \"dst_host_same_srv_rate\", \"dst_host_diff_srv_rate\", \n",
    "                \"dst_host_same_src_port_rate\", \"dst_host_srv_diff_host_rate\", \"dst_host_serror_rate\", \"dst_host_srv_serror_rate\",\n",
    "                \"dst_host_rerror_rate\", \"dst_host_srv_rerror_rate\"]\n",
    "train_x = train_data[num_features].astype(float)\n",
    "test_x = test_data[num_features].astype(float)\n",
    "train_x.describe()"
   ]
  },
  {
   "cell_type": "code",
   "execution_count": 64,
   "id": "c138481a",
   "metadata": {},
   "outputs": [],
   "source": [
    "train_y = train_data['label']\n",
    "test_y = test_data['label']"
   ]
  },
  {
   "cell_type": "code",
   "execution_count": 65,
   "id": "1ad539ca",
   "metadata": {},
   "outputs": [
    {
     "data": {
      "text/plain": [
       "array([[0.00000000e+00, 1.55801178e-07, 3.44108046e-05, ...,\n",
       "        0.00000000e+00, 0.00000000e+00, 0.00000000e+00],\n",
       "       [0.00000000e+00, 1.17394376e-07, 3.45665373e-06, ...,\n",
       "        0.00000000e+00, 0.00000000e+00, 0.00000000e+00],\n",
       "       [0.00000000e+00, 1.71018968e-07, 9.37449377e-07, ...,\n",
       "        0.00000000e+00, 0.00000000e+00, 0.00000000e+00],\n",
       "       ...,\n",
       "       [0.00000000e+00, 1.57975148e-07, 2.75585688e-06, ...,\n",
       "        1.00000000e-02, 0.00000000e+00, 0.00000000e+00],\n",
       "       [0.00000000e+00, 1.58699805e-07, 9.42029748e-07, ...,\n",
       "        1.00000000e-02, 0.00000000e+00, 0.00000000e+00],\n",
       "       [0.00000000e+00, 1.58699805e-07, 8.38207993e-07, ...,\n",
       "        1.00000000e-02, 0.00000000e+00, 0.00000000e+00]])"
      ]
     },
     "execution_count": 65,
     "metadata": {},
     "output_type": "execute_result"
    }
   ],
   "source": [
    "#Ignoring the deprecation warnings\n",
    "import warnings\n",
    "warnings.filterwarnings(\"ignore\", category = DeprecationWarning) \n",
    "\n",
    "#Rescaling the data\n",
    "from sklearn.preprocessing import MinMaxScaler\n",
    "min_max_scaler = MinMaxScaler()\n",
    "\n",
    "min_max_scaler = min_max_scaler.fit(train_x)\n",
    "train_x = min_max_scaler.transform(train_x)\n",
    "\n",
    "min_max_scaler = min_max_scaler.fit(test_x)\n",
    "test_x = min_max_scaler.transform(test_x)\n",
    "\n",
    "train_x"
   ]
  },
  {
   "cell_type": "markdown",
   "id": "b74056d5",
   "metadata": {},
   "source": [
    "# Training"
   ]
  },
  {
   "cell_type": "code",
   "execution_count": 66,
   "id": "832254ed",
   "metadata": {},
   "outputs": [
    {
     "name": "stdout",
     "output_type": "stream",
     "text": [
      "Classifier trained in 562.283 seconds.\n"
     ]
    }
   ],
   "source": [
    "#Training a classifier\n",
    "from sklearn.ensemble import RandomForestClassifier\n",
    "import time\n",
    "clf = RandomForestClassifier(n_estimators=100 ,random_state = 0)\n",
    "t0 = time.time()\n",
    "clf.fit(train_x, train_y)\n",
    "tt = time.time() - t0\n",
    "pred = clf.predict(test_x)\n",
    "print (\"Classifier trained in {} seconds.\".format(round(tt, 3)))"
   ]
  },
  {
   "cell_type": "markdown",
   "id": "fbf709e0",
   "metadata": {},
   "source": [
    "# Accuracy_score"
   ]
  },
  {
   "cell_type": "code",
   "execution_count": 67,
   "id": "75db00dd",
   "metadata": {},
   "outputs": [
    {
     "name": "stdout",
     "output_type": "stream",
     "text": [
      "Accuracy is 0.9733.\n"
     ]
    }
   ],
   "source": [
    "from sklearn.metrics import accuracy_score\n",
    "acc = accuracy_score(pred, test_y)\n",
    "print (\"Accuracy is {}.\".format(round(acc,4)))"
   ]
  },
  {
   "cell_type": "markdown",
   "id": "00b3d5c9",
   "metadata": {},
   "source": [
    "# Precision_score"
   ]
  },
  {
   "cell_type": "code",
   "execution_count": 68,
   "id": "4231df46",
   "metadata": {},
   "outputs": [
    {
     "name": "stderr",
     "output_type": "stream",
     "text": [
      "D:\\Users\\gcobs\\anaconda3\\envs\\MLFN\\lib\\site-packages\\sklearn\\metrics\\_classification.py:1334: UndefinedMetricWarning: Precision is ill-defined and being set to 0.0 in labels with no predicted samples. Use `zero_division` parameter to control this behavior.\n",
      "  _warn_prf(average, modifier, msg_start, len(result))\n"
     ]
    },
    {
     "data": {
      "text/plain": [
       "0.5847765223186869"
      ]
     },
     "execution_count": 68,
     "metadata": {},
     "output_type": "execute_result"
    }
   ],
   "source": [
    "from sklearn.metrics import precision_score\n",
    "precision_score(test_y, pred, average='macro')"
   ]
  },
  {
   "cell_type": "code",
   "execution_count": 69,
   "id": "d1d98058",
   "metadata": {},
   "outputs": [
    {
     "data": {
      "text/plain": [
       "0.9733272460124297"
      ]
     },
     "execution_count": 69,
     "metadata": {},
     "output_type": "execute_result"
    }
   ],
   "source": [
    "precision_score(test_y, pred, average='micro')"
   ]
  },
  {
   "cell_type": "code",
   "execution_count": 70,
   "id": "6a0ea762",
   "metadata": {},
   "outputs": [
    {
     "name": "stderr",
     "output_type": "stream",
     "text": [
      "D:\\Users\\gcobs\\anaconda3\\envs\\MLFN\\lib\\site-packages\\sklearn\\metrics\\_classification.py:1334: UndefinedMetricWarning: Precision is ill-defined and being set to 0.0 in labels with no predicted samples. Use `zero_division` parameter to control this behavior.\n",
      "  _warn_prf(average, modifier, msg_start, len(result))\n"
     ]
    },
    {
     "data": {
      "text/plain": [
       "0.9618725369659131"
      ]
     },
     "execution_count": 70,
     "metadata": {},
     "output_type": "execute_result"
    }
   ],
   "source": [
    "precision_score(test_y, pred, average='weighted')"
   ]
  },
  {
   "cell_type": "code",
   "execution_count": 71,
   "id": "737cf487",
   "metadata": {},
   "outputs": [
    {
     "name": "stderr",
     "output_type": "stream",
     "text": [
      "D:\\Users\\gcobs\\anaconda3\\envs\\MLFN\\lib\\site-packages\\sklearn\\metrics\\_classification.py:1334: UndefinedMetricWarning: Precision is ill-defined and being set to 0.0 in labels with no predicted samples. Use `zero_division` parameter to control this behavior.\n",
      "  _warn_prf(average, modifier, msg_start, len(result))\n"
     ]
    },
    {
     "data": {
      "text/plain": [
       "array([0.99506763, 0.92632703, 0.69479565, 0.30769231, 0.        ])"
      ]
     },
     "execution_count": 71,
     "metadata": {},
     "output_type": "execute_result"
    }
   ],
   "source": [
    "precision_score(test_y, pred, average=None)"
   ]
  },
  {
   "cell_type": "markdown",
   "id": "84313c16",
   "metadata": {},
   "source": [
    "# Recall_score"
   ]
  },
  {
   "cell_type": "code",
   "execution_count": 72,
   "id": "900eecb0",
   "metadata": {},
   "outputs": [
    {
     "data": {
      "text/plain": [
       "0.593550364313737"
      ]
     },
     "execution_count": 72,
     "metadata": {},
     "output_type": "execute_result"
    }
   ],
   "source": [
    "from sklearn.metrics import recall_score\n",
    "recall_score(test_y, pred, average='macro')"
   ]
  },
  {
   "cell_type": "code",
   "execution_count": 73,
   "id": "47e0be9c",
   "metadata": {},
   "outputs": [
    {
     "data": {
      "text/plain": [
       "0.9733272460124297"
      ]
     },
     "execution_count": 73,
     "metadata": {},
     "output_type": "execute_result"
    }
   ],
   "source": [
    "recall_score(test_y, pred, average='micro')"
   ]
  },
  {
   "cell_type": "code",
   "execution_count": 74,
   "id": "f002cc13",
   "metadata": {},
   "outputs": [
    {
     "data": {
      "text/plain": [
       "0.9733272460124297"
      ]
     },
     "execution_count": 74,
     "metadata": {},
     "output_type": "execute_result"
    }
   ],
   "source": [
    "recall_score(test_y, pred, average='weighted')"
   ]
  },
  {
   "cell_type": "code",
   "execution_count": 75,
   "id": "a02df385",
   "metadata": {},
   "outputs": [
    {
     "data": {
      "text/plain": [
       "array([9.99234207e-01, 9.73739946e-01, 9.94110223e-01, 6.67445353e-04,\n",
       "       0.00000000e+00])"
      ]
     },
     "execution_count": 75,
     "metadata": {},
     "output_type": "execute_result"
    }
   ],
   "source": [
    "recall_score(test_y, pred, average=None)"
   ]
  },
  {
   "cell_type": "markdown",
   "id": "e5876fad",
   "metadata": {},
   "source": [
    "# F1_score"
   ]
  },
  {
   "cell_type": "code",
   "execution_count": 76,
   "id": "73673c85",
   "metadata": {},
   "outputs": [
    {
     "data": {
      "text/plain": [
       "0.5531701157374902"
      ]
     },
     "execution_count": 76,
     "metadata": {},
     "output_type": "execute_result"
    }
   ],
   "source": [
    "from sklearn.metrics import f1_score\n",
    "f1_score(test_y, pred, average='macro')"
   ]
  },
  {
   "cell_type": "code",
   "execution_count": 77,
   "id": "eeadfc0a",
   "metadata": {},
   "outputs": [
    {
     "data": {
      "text/plain": [
       "0.9733272460124297"
      ]
     },
     "execution_count": 77,
     "metadata": {},
     "output_type": "execute_result"
    }
   ],
   "source": [
    "f1_score(test_y, pred, average='micro')"
   ]
  },
  {
   "cell_type": "code",
   "execution_count": 78,
   "id": "3cbde35d",
   "metadata": {},
   "outputs": [
    {
     "data": {
      "text/plain": [
       "0.9642980858465812"
      ]
     },
     "execution_count": 78,
     "metadata": {},
     "output_type": "execute_result"
    }
   ],
   "source": [
    "f1_score(test_y, pred, average='weighted')"
   ]
  },
  {
   "cell_type": "code",
   "execution_count": 79,
   "id": "de309ef0",
   "metadata": {},
   "outputs": [
    {
     "data": {
      "text/plain": [
       "array([0.99714657, 0.94944193, 0.81793008, 0.001332  , 0.        ])"
      ]
     },
     "execution_count": 79,
     "metadata": {},
     "output_type": "execute_result"
    }
   ],
   "source": [
    "f1_score(test_y, pred, average=None)"
   ]
  },
  {
   "cell_type": "code",
   "execution_count": 80,
   "id": "c0b9ec59",
   "metadata": {},
   "outputs": [
    {
     "ename": "SyntaxError",
     "evalue": "invalid syntax (2849511438.py, line 1)",
     "output_type": "error",
     "traceback": [
      "\u001b[1;36m  Input \u001b[1;32mIn [80]\u001b[1;36m\u001b[0m\n\u001b[1;33m    back dos\u001b[0m\n\u001b[1;37m         ^\u001b[0m\n\u001b[1;31mSyntaxError\u001b[0m\u001b[1;31m:\u001b[0m invalid syntax\n"
     ]
    }
   ],
   "source": [
    "back dos\n",
    "buffer_overflow u2r\n",
    "ftp_write r2l\n",
    "guess_passwd r2l\n",
    "imap r2l\n",
    "ipsweep probe\n",
    "land dos\n",
    "loadmodule u2r\n",
    "multihop r2l\n",
    "neptune dos\n",
    "nmap probe\n",
    "perl u2r\n",
    "phf r2l\n",
    "pod dos\n",
    "portsweep probe\n",
    "rootkit u2r\n",
    "satan probe\n",
    "smurf dos\n",
    "spy r2l\n",
    "teardrop dos\n",
    "warezclient r2l\n",
    "warezmaster r2l\n"
   ]
  },
  {
   "cell_type": "code",
   "execution_count": null,
   "id": "7323741f",
   "metadata": {},
   "outputs": [],
   "source": []
  }
 ],
 "metadata": {
  "kernelspec": {
   "display_name": "Python 3 (ipykernel)",
   "language": "python",
   "name": "python3"
  },
  "language_info": {
   "codemirror_mode": {
    "name": "ipython",
    "version": 3
   },
   "file_extension": ".py",
   "mimetype": "text/x-python",
   "name": "python",
   "nbconvert_exporter": "python",
   "pygments_lexer": "ipython3",
   "version": "3.9.13"
  }
 },
 "nbformat": 4,
 "nbformat_minor": 5
}
